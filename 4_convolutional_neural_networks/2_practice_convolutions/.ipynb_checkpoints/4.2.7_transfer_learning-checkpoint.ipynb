{
 "cells": [
  {
   "cell_type": "markdown",
   "metadata": {
    "id": "rX8mhOLljYeM"
   },
   "source": [
    "##### Copyright 2019 The TensorFlow Authors."
   ]
  },
  {
   "cell_type": "code",
   "execution_count": 1,
   "metadata": {
    "cellView": "form",
    "id": "BZSlp3DAjdYf"
   },
   "outputs": [],
   "source": [
    "#@title Licensed under the Apache License, Version 2.0 (the \"License\");\n",
    "# you may not use this file except in compliance with the License.\n",
    "# You may obtain a copy of the License at\n",
    "#\n",
    "# https://www.apache.org/licenses/LICENSE-2.0\n",
    "#\n",
    "# Unless required by applicable law or agreed to in writing, software\n",
    "# distributed under the License is distributed on an \"AS IS\" BASIS,\n",
    "# WITHOUT WARRANTIES OR CONDITIONS OF ANY KIND, either express or implied.\n",
    "# See the License for the specific language governing permissions and\n",
    "# limitations under the License."
   ]
  },
  {
   "cell_type": "code",
   "execution_count": 2,
   "metadata": {
    "id": "1xJZ5glPPCRz"
   },
   "outputs": [
    {
     "name": "stdout",
     "output_type": "stream",
     "text": [
      "--2020-11-11 19:06:36--  https://storage.googleapis.com/mledu-datasets/inception_v3_weights_tf_dim_ordering_tf_kernels_notop.h5\n",
      "--2020-11-11 19:06:36--  https://storage.googleapis.com/mledu-datasets/inception_v3_weights_tf_dim_ordering_tf_kernels_notop.h5\n",
      "Résolution de storage.googleapis.com (storage.googleapis.com)… Résolution de storage.googleapis.com (storage.googleapis.com)… 216.58.213.80, 216.58.198.208, 142.250.74.240, ...\n",
      "Connexion à storage.googleapis.com (storage.googleapis.com)|216.58.213.80|:443… connecté.\n",
      "requête HTTP transmise, en attente de la réponse… 216.58.213.80, 216.58.198.208, 142.250.74.240, ...\n",
      "Connexion à storage.googleapis.com (storage.googleapis.com)|216.58.213.80|:443… connecté.\n",
      "requête HTTP transmise, en attente de la réponse… 200 OK\n",
      "Taille : 87910968 (84M) [application/x-hdf]\n",
      "Sauvegarde en : « /tmp/inception_v3_weights_tf_dim_ordering_tf_kernels_notop.h5 »\n",
      "\n",
      "          /tmp/ince   0%[                    ]       0  --.-KB/s               200 OK\n",
      "Taille : 87910968 (84M) [application/x-hdf]\n",
      "Sauvegarde en : « /tmp/inception_v3_weights_tf_dim_ordering_tf_kernels_notop.h5 »\n",
      "\n",
      "/tmp/inception_v3_w 100%[===================>]  83,84M  5,17MB/s    ds 21s     \n",
      "\n",
      "2020-11-11 19:06:58 (4,05 MB/s) — « /tmp/inception_v3_weights_tf_dim_ordering_tf_kernels_notop.h5 » sauvegardé [87910968/87910968]\n",
      "\n",
      "/tmp/inception_v3_w 100%[===================>]  83,84M  5,17MB/s    ds 21s     \n",
      "\n",
      "2020-11-11 19:06:58 (4,05 MB/s) — « /tmp/inception_v3_weights_tf_dim_ordering_tf_kernels_notop.h5 » sauvegardé [87910968/87910968]\n",
      "\n",
      "last layer output shape:  (None, 7, 7, 768)\n",
      "last layer output shape:  (None, 7, 7, 768)\n"
     ]
    }
   ],
   "source": [
    "import os\n",
    "\n",
    "from tensorflow.keras import layers\n",
    "from tensorflow.keras import Model\n",
    "\n",
    "!wget --no-check-certificate \\\n",
    "    https://storage.googleapis.com/mledu-datasets/inception_v3_weights_tf_dim_ordering_tf_kernels_notop.h5 \\\n",
    "    -O /tmp/inception_v3_weights_tf_dim_ordering_tf_kernels_notop.h5\n",
    "  \n",
    "from tensorflow.keras.applications.inception_v3 import InceptionV3\n",
    "\n",
    "local_weights_file = '/tmp/inception_v3_weights_tf_dim_ordering_tf_kernels_notop.h5'\n",
    "\n",
    "pre_trained_model = InceptionV3(input_shape = (150, 150, 3), \n",
    "                                include_top = False, \n",
    "                                weights = None)\n",
    "\n",
    "pre_trained_model.load_weights(local_weights_file)\n",
    "\n",
    "for layer in pre_trained_model.layers:\n",
    "  layer.trainable = False\n",
    "  \n",
    "# pre_trained_model.summary()\n",
    "\n",
    "last_layer = pre_trained_model.get_layer('mixed7')\n",
    "print('last layer output shape: ', last_layer.output_shape)\n",
    "last_output = last_layer.output"
   ]
  },
  {
   "cell_type": "code",
   "execution_count": 3,
   "metadata": {
    "id": "BMXb913pbvFg"
   },
   "outputs": [],
   "source": [
    "from tensorflow.keras.optimizers import RMSprop\n",
    "\n",
    "# Flatten the output layer to 1 dimension\n",
    "x = layers.Flatten()(last_output)\n",
    "# Add a fully connected layer with 1,024 hidden units and ReLU activation\n",
    "x = layers.Dense(1024, activation='relu')(x)\n",
    "# Add a dropout rate of 0.2\n",
    "x = layers.Dropout(0.2)(x)                  \n",
    "# Add a final sigmoid layer for classification\n",
    "x = layers.Dense  (1, activation='sigmoid')(x)           \n",
    "\n",
    "model = Model( pre_trained_model.input, x) \n",
    "\n",
    "model.compile(optimizer = RMSprop(lr=0.0001), \n",
    "              loss = 'binary_crossentropy', \n",
    "              metrics = ['accuracy'])\n"
   ]
  },
  {
   "cell_type": "code",
   "execution_count": null,
   "metadata": {
    "id": "O4s8HckqGlnb"
   },
   "outputs": [
    {
     "name": "stdout",
     "output_type": "stream",
     "text": [
      "--2020-11-11 19:07:06--  https://storage.googleapis.com/mledu-datasets/cats_and_dogs_filtered.zip\n",
      "--2020-11-11 19:07:06--  https://storage.googleapis.com/mledu-datasets/cats_and_dogs_filtered.zip\n",
      "Résolution de storage.googleapis.com (storage.googleapis.com)… 216.58.213.80, 216.58.198.208, 142.250.74.240, ...\n",
      "Connexion à storage.googleapis.com (storage.googleapis.com)|216.58.213.80|:443… connecté.\n",
      "requête HTTP transmise, en attente de la réponse… Résolution de storage.googleapis.com (storage.googleapis.com)… 216.58.213.80, 216.58.198.208, 142.250.74.240, ...\n",
      "Connexion à storage.googleapis.com (storage.googleapis.com)|216.58.213.80|:443… connecté.\n",
      "requête HTTP transmise, en attente de la réponse… 200 OK\n",
      "Taille : 68606236 (65M) [application/zip]\n",
      "Sauvegarde en : « /tmp/cats_and_dogs_filtered.zip »\n",
      "\n",
      "          /tmp/cats   0%[                    ]       0  --.-KB/s               200 OK\n",
      "Taille : 68606236 (65M) [application/zip]\n",
      "Sauvegarde en : « /tmp/cats_and_dogs_filtered.zip »\n",
      "\n",
      "/tmp/cats_and_dogs_ 100%[===================>]  65,43M  3,79MB/s    ds 15s     \n",
      "\n",
      "2020-11-11 19:07:21 (4,32 MB/s) — « /tmp/cats_and_dogs_filtered.zip » sauvegardé [68606236/68606236]\n",
      "\n",
      "/tmp/cats_and_dogs_ 100%[===================>]  65,43M  3,79MB/s    ds 15s     \n",
      "\n",
      "2020-11-11 19:07:21 (4,32 MB/s) — « /tmp/cats_and_dogs_filtered.zip » sauvegardé [68606236/68606236]\n",
      "\n",
      "Found 2000 images belonging to 2 classes.\n",
      "Found 1000 images belonging to 2 classes.\n",
      "Found 2000 images belonging to 2 classes.\n",
      "Found 1000 images belonging to 2 classes.\n"
     ]
    }
   ],
   "source": [
    "!wget --no-check-certificate \\\n",
    "        https://storage.googleapis.com/mledu-datasets/cats_and_dogs_filtered.zip \\\n",
    "       -O /tmp/cats_and_dogs_filtered.zip\n",
    "\n",
    "from tensorflow.keras.preprocessing.image import ImageDataGenerator\n",
    "\n",
    "import os\n",
    "import zipfile\n",
    "\n",
    "local_zip = '//tmp/cats_and_dogs_filtered.zip'\n",
    "\n",
    "zip_ref = zipfile.ZipFile(local_zip, 'r')\n",
    "\n",
    "zip_ref.extractall('/tmp')\n",
    "zip_ref.close()\n",
    "\n",
    "# Define our example directories and files\n",
    "base_dir = '/tmp/cats_and_dogs_filtered'\n",
    "\n",
    "train_dir = os.path.join( base_dir, 'train')\n",
    "validation_dir = os.path.join( base_dir, 'validation')\n",
    "\n",
    "\n",
    "train_cats_dir = os.path.join(train_dir, 'cats') # Directory with our training cat pictures\n",
    "train_dogs_dir = os.path.join(train_dir, 'dogs') # Directory with our training dog pictures\n",
    "validation_cats_dir = os.path.join(validation_dir, 'cats') # Directory with our validation cat pictures\n",
    "validation_dogs_dir = os.path.join(validation_dir, 'dogs')# Directory with our validation dog pictures\n",
    "\n",
    "train_cat_fnames = os.listdir(train_cats_dir)\n",
    "train_dog_fnames = os.listdir(train_dogs_dir)\n",
    "\n",
    "# Add our data-augmentation parameters to ImageDataGenerator\n",
    "train_datagen = ImageDataGenerator(rescale = 1./255.,\n",
    "                                   rotation_range = 40,\n",
    "                                   width_shift_range = 0.2,\n",
    "                                   height_shift_range = 0.2,\n",
    "                                   shear_range = 0.2,\n",
    "                                   zoom_range = 0.2,\n",
    "                                   horizontal_flip = True)\n",
    "\n",
    "# Note that the validation data should not be augmented!\n",
    "test_datagen = ImageDataGenerator( rescale = 1.0/255. )\n",
    "\n",
    "# Flow training images in batches of 20 using train_datagen generator\n",
    "train_generator = train_datagen.flow_from_directory(train_dir,\n",
    "                                                    batch_size = 20,\n",
    "                                                    class_mode = 'binary', \n",
    "                                                    target_size = (150, 150))     \n",
    "\n",
    "# Flow validation images in batches of 20 using test_datagen generator\n",
    "validation_generator =  test_datagen.flow_from_directory( validation_dir,\n",
    "                                                          batch_size  = 20,\n",
    "                                                          class_mode  = 'binary', \n",
    "                                                          target_size = (150, 150))"
   ]
  },
  {
   "cell_type": "code",
   "execution_count": null,
   "metadata": {
    "id": "Blhq2MAUeyGA"
   },
   "outputs": [
    {
     "name": "stdout",
     "output_type": "stream",
     "text": [
      "Epoch 1/20\n",
      "Epoch 1/20\n",
      "100/100 - 112s - loss: 0.3349 - accuracy: 0.8615 - val_loss: 0.0972 - val_accuracy: 0.9610\n",
      "100/100 - 112s - loss: 0.3349 - accuracy: 0.8615 - val_loss: 0.0972 - val_accuracy: 0.9610\n",
      "Epoch 2/20\n",
      "Epoch 2/20\n",
      "100/100 - 110s - loss: 0.2192 - accuracy: 0.9250 - val_loss: 0.1776 - val_accuracy: 0.9360\n",
      "100/100 - 110s - loss: 0.2192 - accuracy: 0.9250 - val_loss: 0.1776 - val_accuracy: 0.9360\n",
      "Epoch 3/20\n",
      "Epoch 3/20\n",
      "100/100 - 108s - loss: 0.2088 - accuracy: 0.9225 - val_loss: 0.1096 - val_accuracy: 0.9610\n",
      "100/100 - 108s - loss: 0.2088 - accuracy: 0.9225 - val_loss: 0.1096 - val_accuracy: 0.9610\n",
      "Epoch 4/20\n",
      "Epoch 4/20\n",
      "100/100 - 105s - loss: 0.1783 - accuracy: 0.9335 - val_loss: 0.1471 - val_accuracy: 0.9570\n",
      "100/100 - 105s - loss: 0.1783 - accuracy: 0.9335 - val_loss: 0.1471 - val_accuracy: 0.9570\n",
      "Epoch 5/20\n",
      "Epoch 5/20\n",
      "100/100 - 109s - loss: 0.1994 - accuracy: 0.9255 - val_loss: 0.0991 - val_accuracy: 0.9700\n",
      "100/100 - 109s - loss: 0.1994 - accuracy: 0.9255 - val_loss: 0.0991 - val_accuracy: 0.9700\n",
      "Epoch 6/20\n",
      "Epoch 6/20\n",
      "100/100 - 103s - loss: 0.1694 - accuracy: 0.9380 - val_loss: 0.0929 - val_accuracy: 0.9700\n",
      "100/100 - 103s - loss: 0.1694 - accuracy: 0.9380 - val_loss: 0.0929 - val_accuracy: 0.9700\n",
      "Epoch 7/20\n",
      "Epoch 7/20\n",
      "100/100 - 96s - loss: 0.1739 - accuracy: 0.9380 - val_loss: 0.1027 - val_accuracy: 0.9670\n",
      "100/100 - 96s - loss: 0.1739 - accuracy: 0.9380 - val_loss: 0.1027 - val_accuracy: 0.9670\n",
      "Epoch 8/20\n",
      "Epoch 8/20\n",
      "100/100 - 95s - loss: 0.1754 - accuracy: 0.9375 - val_loss: 0.1436 - val_accuracy: 0.9610\n",
      "100/100 - 95s - loss: 0.1754 - accuracy: 0.9375 - val_loss: 0.1436 - val_accuracy: 0.9610\n",
      "Epoch 9/20\n",
      "Epoch 9/20\n",
      "100/100 - 95s - loss: 0.1702 - accuracy: 0.9455 - val_loss: 0.1152 - val_accuracy: 0.9660\n",
      "100/100 - 95s - loss: 0.1702 - accuracy: 0.9455 - val_loss: 0.1152 - val_accuracy: 0.9660\n",
      "Epoch 10/20\n",
      "Epoch 10/20\n",
      "100/100 - 95s - loss: 0.1663 - accuracy: 0.9435 - val_loss: 0.0969 - val_accuracy: 0.9680\n",
      "100/100 - 95s - loss: 0.1663 - accuracy: 0.9435 - val_loss: 0.0969 - val_accuracy: 0.9680\n",
      "Epoch 11/20\n",
      "Epoch 11/20\n",
      "100/100 - 95s - loss: 0.1566 - accuracy: 0.9465 - val_loss: 0.0939 - val_accuracy: 0.9670\n",
      "100/100 - 95s - loss: 0.1566 - accuracy: 0.9465 - val_loss: 0.0939 - val_accuracy: 0.9670\n",
      "Epoch 12/20\n",
      "Epoch 12/20\n",
      "100/100 - 96s - loss: 0.1704 - accuracy: 0.9440 - val_loss: 0.0938 - val_accuracy: 0.9680\n",
      "100/100 - 96s - loss: 0.1704 - accuracy: 0.9440 - val_loss: 0.0938 - val_accuracy: 0.9680\n",
      "Epoch 13/20\n",
      "Epoch 13/20\n",
      "100/100 - 97s - loss: 0.1490 - accuracy: 0.9475 - val_loss: 0.1052 - val_accuracy: 0.9700\n",
      "100/100 - 97s - loss: 0.1490 - accuracy: 0.9475 - val_loss: 0.1052 - val_accuracy: 0.9700\n",
      "Epoch 14/20\n",
      "Epoch 14/20\n",
      "100/100 - 97s - loss: 0.1402 - accuracy: 0.9490 - val_loss: 0.1347 - val_accuracy: 0.9630\n",
      "100/100 - 97s - loss: 0.1402 - accuracy: 0.9490 - val_loss: 0.1347 - val_accuracy: 0.9630\n",
      "Epoch 15/20\n",
      "Epoch 15/20\n",
      "100/100 - 98s - loss: 0.1476 - accuracy: 0.9485 - val_loss: 0.1106 - val_accuracy: 0.9690\n",
      "100/100 - 98s - loss: 0.1476 - accuracy: 0.9485 - val_loss: 0.1106 - val_accuracy: 0.9690\n",
      "Epoch 16/20\n",
      "Epoch 16/20\n",
      "100/100 - 103s - loss: 0.1486 - accuracy: 0.9530 - val_loss: 0.0991 - val_accuracy: 0.9690\n",
      "100/100 - 103s - loss: 0.1486 - accuracy: 0.9530 - val_loss: 0.0991 - val_accuracy: 0.9690\n",
      "Epoch 17/20\n",
      "Epoch 17/20\n",
      "100/100 - 98s - loss: 0.1374 - accuracy: 0.9495 - val_loss: 0.1307 - val_accuracy: 0.9650\n",
      "100/100 - 98s - loss: 0.1374 - accuracy: 0.9495 - val_loss: 0.1307 - val_accuracy: 0.9650\n",
      "Epoch 18/20\n",
      "Epoch 18/20\n",
      "100/100 - 101s - loss: 0.1174 - accuracy: 0.9540 - val_loss: 0.1114 - val_accuracy: 0.9690\n",
      "100/100 - 101s - loss: 0.1174 - accuracy: 0.9540 - val_loss: 0.1114 - val_accuracy: 0.9690\n",
      "Epoch 19/20\n",
      "Epoch 19/20\n",
      "100/100 - 100s - loss: 0.1403 - accuracy: 0.9540 - val_loss: 0.1063 - val_accuracy: 0.9670\n",
      "100/100 - 100s - loss: 0.1403 - accuracy: 0.9540 - val_loss: 0.1063 - val_accuracy: 0.9670\n",
      "Epoch 20/20\n",
      "Epoch 20/20\n",
      "100/100 - 95s - loss: 0.1329 - accuracy: 0.9575 - val_loss: 0.1109 - val_accuracy: 0.9710\n",
      "100/100 - 95s - loss: 0.1329 - accuracy: 0.9575 - val_loss: 0.1109 - val_accuracy: 0.9710\n"
     ]
    }
   ],
   "source": [
    "history = model.fit(\n",
    "            train_generator,\n",
    "            validation_data = validation_generator,\n",
    "            steps_per_epoch = 100,\n",
    "            epochs = 20,\n",
    "            validation_steps = 50,\n",
    "            verbose = 2)"
   ]
  },
  {
   "cell_type": "code",
   "execution_count": null,
   "metadata": {
    "id": "C2Fp6Se9rKuL"
   },
   "outputs": [
    {
     "data": {
      "image/png": "[encoded data removed]",
      "text/plain": [
       "<Figure size 432x288 with 1 Axes>"
      ]
     },
     "metadata": {
      "needs_background": "light"
     },
     "output_type": "display_data"
    },
    {
     "data": {
      "image/png": "[encoded data removed]",
      "text/plain": [
       "<Figure size 432x288 with 1 Axes>"
      ]
     },
     "metadata": {
      "needs_background": "light"
     },
     "output_type": "display_data"
    },
    {
     "data": {
      "text/plain": [
       "<Figure size 432x288 with 0 Axes>"
      ]
     },
     "metadata": {},
     "output_type": "display_data"
    },
    {
     "data": {
      "text/plain": [
       "<Figure size 432x288 with 0 Axes>"
      ]
     },
     "metadata": {},
     "output_type": "display_data"
    }
   ],
   "source": [
    "import matplotlib.pyplot as plt\n",
    "acc = history.history['accuracy']\n",
    "val_acc = history.history['val_accuracy']\n",
    "loss = history.history['loss']\n",
    "val_loss = history.history['val_loss']\n",
    "\n",
    "epochs = range(len(acc))\n",
    "\n",
    "plt.plot(epochs, acc, 'r', label='Training accuracy')\n",
    "plt.plot(epochs, val_acc, 'b', label='Validation accuracy')\n",
    "plt.title('Training and validation accuracy')\n",
    "plt.legend(loc=0)\n",
    "plt.figure()\n",
    "\n",
    "\n",
    "plt.show()"
   ]
  }
 ],
 "metadata": {
  "accelerator": "GPU",
  "colab": {
   "collapsed_sections": [],
   "name": "Course 2 - Part 6 - Lesson 3 - Notebook.ipynb",
   "provenance": [],
   "toc_visible": true
  },
  "kernelspec": {
   "display_name": "dlcourse-venv",
   "language": "python",
   "name": "dlcourse-venv"
  },
  "language_info": {
   "codemirror_mode": {
    "name": "ipython",
    "version": 3
   },
   "file_extension": ".py",
   "mimetype": "text/x-python",
   "name": "python",
   "nbconvert_exporter": "python",
   "pygments_lexer": "ipython3",
   "version": "3.7.0"
  }
 },
 "nbformat": 4,
 "nbformat_minor": 1
}
